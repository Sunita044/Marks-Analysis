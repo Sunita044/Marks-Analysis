{
 "cells": [
  {
   "cell_type": "code",
   "execution_count": 1,
   "id": "b3e230e0-15b8-480d-82b4-9f388d776a85",
   "metadata": {},
   "outputs": [],
   "source": [
    "import numpy as np"
   ]
  },
  {
   "cell_type": "code",
   "execution_count": 2,
   "id": "d86f07b7-4458-41dc-a599-fe8892beea2b",
   "metadata": {},
   "outputs": [],
   "source": [
    "import pandas as pd"
   ]
  },
  {
   "cell_type": "code",
   "execution_count": null,
   "id": "81b06a31-8528-4912-8701-f6f0c71287f2",
   "metadata": {},
   "outputs": [],
   "source": [
    "df=pd.read_excel('marks report.xlsx')"
   ]
  },
  {
   "cell_type": "code",
   "execution_count": 4,
   "id": "abd7f77e-b3e3-448e-b437-ebf1be702d82",
   "metadata": {},
   "outputs": [
    {
     "data": {
      "text/html": [
       "<div>\n",
       "<style scoped>\n",
       "    .dataframe tbody tr th:only-of-type {\n",
       "        vertical-align: middle;\n",
       "    }\n",
       "\n",
       "    .dataframe tbody tr th {\n",
       "        vertical-align: top;\n",
       "    }\n",
       "\n",
       "    .dataframe thead th {\n",
       "        text-align: right;\n",
       "    }\n",
       "</style>\n",
       "<table border=\"1\" class=\"dataframe\">\n",
       "  <thead>\n",
       "    <tr style=\"text-align: right;\">\n",
       "      <th></th>\n",
       "      <th>Sr.no</th>\n",
       "      <th>Names</th>\n",
       "      <th>English</th>\n",
       "      <th>Math</th>\n",
       "      <th>Science</th>\n",
       "      <th>Hindi</th>\n",
       "      <th>Social</th>\n",
       "      <th>Total</th>\n",
       "      <th>Percentage</th>\n",
       "    </tr>\n",
       "  </thead>\n",
       "  <tbody>\n",
       "    <tr>\n",
       "      <th>0</th>\n",
       "      <td>1</td>\n",
       "      <td>Sahil</td>\n",
       "      <td>85</td>\n",
       "      <td>76</td>\n",
       "      <td>30</td>\n",
       "      <td>57</td>\n",
       "      <td>47</td>\n",
       "      <td>-</td>\n",
       "      <td>-</td>\n",
       "    </tr>\n",
       "    <tr>\n",
       "      <th>1</th>\n",
       "      <td>2</td>\n",
       "      <td>Rohit</td>\n",
       "      <td>70</td>\n",
       "      <td>66</td>\n",
       "      <td>83</td>\n",
       "      <td>34</td>\n",
       "      <td>81</td>\n",
       "      <td>-</td>\n",
       "      <td>-</td>\n",
       "    </tr>\n",
       "    <tr>\n",
       "      <th>2</th>\n",
       "      <td>3</td>\n",
       "      <td>Gaurav</td>\n",
       "      <td>32</td>\n",
       "      <td>97</td>\n",
       "      <td>34</td>\n",
       "      <td>74</td>\n",
       "      <td>52</td>\n",
       "      <td>-</td>\n",
       "      <td>-</td>\n",
       "    </tr>\n",
       "    <tr>\n",
       "      <th>3</th>\n",
       "      <td>4</td>\n",
       "      <td>Raj</td>\n",
       "      <td>72</td>\n",
       "      <td>96</td>\n",
       "      <td>69</td>\n",
       "      <td>46</td>\n",
       "      <td>67</td>\n",
       "      <td>-</td>\n",
       "      <td>-</td>\n",
       "    </tr>\n",
       "    <tr>\n",
       "      <th>4</th>\n",
       "      <td>5</td>\n",
       "      <td>Sham</td>\n",
       "      <td>76</td>\n",
       "      <td>56</td>\n",
       "      <td>67</td>\n",
       "      <td>80</td>\n",
       "      <td>78</td>\n",
       "      <td>-</td>\n",
       "      <td>-</td>\n",
       "    </tr>\n",
       "    <tr>\n",
       "      <th>5</th>\n",
       "      <td>6</td>\n",
       "      <td>Rajni</td>\n",
       "      <td>84</td>\n",
       "      <td>34</td>\n",
       "      <td>94</td>\n",
       "      <td>95</td>\n",
       "      <td>76</td>\n",
       "      <td>-</td>\n",
       "      <td>-</td>\n",
       "    </tr>\n",
       "    <tr>\n",
       "      <th>6</th>\n",
       "      <td>7</td>\n",
       "      <td>Sanny</td>\n",
       "      <td>77</td>\n",
       "      <td>41</td>\n",
       "      <td>76</td>\n",
       "      <td>51</td>\n",
       "      <td>78</td>\n",
       "      <td>-</td>\n",
       "      <td>-</td>\n",
       "    </tr>\n",
       "    <tr>\n",
       "      <th>7</th>\n",
       "      <td>8</td>\n",
       "      <td>Monika</td>\n",
       "      <td>74</td>\n",
       "      <td>37</td>\n",
       "      <td>73</td>\n",
       "      <td>40</td>\n",
       "      <td>53</td>\n",
       "      <td>-</td>\n",
       "      <td>-</td>\n",
       "    </tr>\n",
       "    <tr>\n",
       "      <th>8</th>\n",
       "      <td>9</td>\n",
       "      <td>Vinay</td>\n",
       "      <td>86</td>\n",
       "      <td>99</td>\n",
       "      <td>58</td>\n",
       "      <td>64</td>\n",
       "      <td>57</td>\n",
       "      <td>-</td>\n",
       "      <td>-</td>\n",
       "    </tr>\n",
       "    <tr>\n",
       "      <th>9</th>\n",
       "      <td>10</td>\n",
       "      <td>Mohit</td>\n",
       "      <td>30</td>\n",
       "      <td>35</td>\n",
       "      <td>71</td>\n",
       "      <td>80</td>\n",
       "      <td>67</td>\n",
       "      <td>-</td>\n",
       "      <td>-</td>\n",
       "    </tr>\n",
       "  </tbody>\n",
       "</table>\n",
       "</div>"
      ],
      "text/plain": [
       "   Sr.no   Names  English  Math  Science  Hindi  Social Total Percentage\n",
       "0      1   Sahil       85    76       30     57      47     -          -\n",
       "1      2   Rohit       70    66       83     34      81     -          -\n",
       "2      3  Gaurav       32    97       34     74      52     -          -\n",
       "3      4     Raj       72    96       69     46      67     -          -\n",
       "4      5    Sham       76    56       67     80      78     -          -\n",
       "5      6   Rajni       84    34       94     95      76     -          -\n",
       "6      7   Sanny       77    41       76     51      78     -          -\n",
       "7      8  Monika       74    37       73     40      53     -          -\n",
       "8      9   Vinay       86    99       58     64      57     -          -\n",
       "9     10   Mohit       30    35       71     80      67     -          -"
      ]
     },
     "execution_count": 4,
     "metadata": {},
     "output_type": "execute_result"
    }
   ],
   "source": [
    "df"
   ]
  },
  {
   "cell_type": "code",
   "execution_count": 5,
   "id": "647575af-67fb-46b9-a4e0-7d7e064cc242",
   "metadata": {},
   "outputs": [],
   "source": [
    "df['Total']= df[['English', 'Math', 'Science', 'Hindi', 'Social']].sum(axis=1)"
   ]
  },
  {
   "cell_type": "code",
   "execution_count": 6,
   "id": "2aeddb50-3dd1-4c58-be66-e20a6b81d532",
   "metadata": {},
   "outputs": [
    {
     "data": {
      "text/html": [
       "<div>\n",
       "<style scoped>\n",
       "    .dataframe tbody tr th:only-of-type {\n",
       "        vertical-align: middle;\n",
       "    }\n",
       "\n",
       "    .dataframe tbody tr th {\n",
       "        vertical-align: top;\n",
       "    }\n",
       "\n",
       "    .dataframe thead th {\n",
       "        text-align: right;\n",
       "    }\n",
       "</style>\n",
       "<table border=\"1\" class=\"dataframe\">\n",
       "  <thead>\n",
       "    <tr style=\"text-align: right;\">\n",
       "      <th></th>\n",
       "      <th>Sr.no</th>\n",
       "      <th>Names</th>\n",
       "      <th>English</th>\n",
       "      <th>Math</th>\n",
       "      <th>Science</th>\n",
       "      <th>Hindi</th>\n",
       "      <th>Social</th>\n",
       "      <th>Total</th>\n",
       "      <th>Percentage</th>\n",
       "    </tr>\n",
       "  </thead>\n",
       "  <tbody>\n",
       "    <tr>\n",
       "      <th>0</th>\n",
       "      <td>1</td>\n",
       "      <td>Sahil</td>\n",
       "      <td>85</td>\n",
       "      <td>76</td>\n",
       "      <td>30</td>\n",
       "      <td>57</td>\n",
       "      <td>47</td>\n",
       "      <td>295</td>\n",
       "      <td>-</td>\n",
       "    </tr>\n",
       "    <tr>\n",
       "      <th>1</th>\n",
       "      <td>2</td>\n",
       "      <td>Rohit</td>\n",
       "      <td>70</td>\n",
       "      <td>66</td>\n",
       "      <td>83</td>\n",
       "      <td>34</td>\n",
       "      <td>81</td>\n",
       "      <td>334</td>\n",
       "      <td>-</td>\n",
       "    </tr>\n",
       "    <tr>\n",
       "      <th>2</th>\n",
       "      <td>3</td>\n",
       "      <td>Gaurav</td>\n",
       "      <td>32</td>\n",
       "      <td>97</td>\n",
       "      <td>34</td>\n",
       "      <td>74</td>\n",
       "      <td>52</td>\n",
       "      <td>289</td>\n",
       "      <td>-</td>\n",
       "    </tr>\n",
       "    <tr>\n",
       "      <th>3</th>\n",
       "      <td>4</td>\n",
       "      <td>Raj</td>\n",
       "      <td>72</td>\n",
       "      <td>96</td>\n",
       "      <td>69</td>\n",
       "      <td>46</td>\n",
       "      <td>67</td>\n",
       "      <td>350</td>\n",
       "      <td>-</td>\n",
       "    </tr>\n",
       "    <tr>\n",
       "      <th>4</th>\n",
       "      <td>5</td>\n",
       "      <td>Sham</td>\n",
       "      <td>76</td>\n",
       "      <td>56</td>\n",
       "      <td>67</td>\n",
       "      <td>80</td>\n",
       "      <td>78</td>\n",
       "      <td>357</td>\n",
       "      <td>-</td>\n",
       "    </tr>\n",
       "    <tr>\n",
       "      <th>5</th>\n",
       "      <td>6</td>\n",
       "      <td>Rajni</td>\n",
       "      <td>84</td>\n",
       "      <td>34</td>\n",
       "      <td>94</td>\n",
       "      <td>95</td>\n",
       "      <td>76</td>\n",
       "      <td>383</td>\n",
       "      <td>-</td>\n",
       "    </tr>\n",
       "    <tr>\n",
       "      <th>6</th>\n",
       "      <td>7</td>\n",
       "      <td>Sanny</td>\n",
       "      <td>77</td>\n",
       "      <td>41</td>\n",
       "      <td>76</td>\n",
       "      <td>51</td>\n",
       "      <td>78</td>\n",
       "      <td>323</td>\n",
       "      <td>-</td>\n",
       "    </tr>\n",
       "    <tr>\n",
       "      <th>7</th>\n",
       "      <td>8</td>\n",
       "      <td>Monika</td>\n",
       "      <td>74</td>\n",
       "      <td>37</td>\n",
       "      <td>73</td>\n",
       "      <td>40</td>\n",
       "      <td>53</td>\n",
       "      <td>277</td>\n",
       "      <td>-</td>\n",
       "    </tr>\n",
       "    <tr>\n",
       "      <th>8</th>\n",
       "      <td>9</td>\n",
       "      <td>Vinay</td>\n",
       "      <td>86</td>\n",
       "      <td>99</td>\n",
       "      <td>58</td>\n",
       "      <td>64</td>\n",
       "      <td>57</td>\n",
       "      <td>364</td>\n",
       "      <td>-</td>\n",
       "    </tr>\n",
       "    <tr>\n",
       "      <th>9</th>\n",
       "      <td>10</td>\n",
       "      <td>Mohit</td>\n",
       "      <td>30</td>\n",
       "      <td>35</td>\n",
       "      <td>71</td>\n",
       "      <td>80</td>\n",
       "      <td>67</td>\n",
       "      <td>283</td>\n",
       "      <td>-</td>\n",
       "    </tr>\n",
       "  </tbody>\n",
       "</table>\n",
       "</div>"
      ],
      "text/plain": [
       "   Sr.no   Names  English  Math  Science  Hindi  Social  Total Percentage\n",
       "0      1   Sahil       85    76       30     57      47    295          -\n",
       "1      2   Rohit       70    66       83     34      81    334          -\n",
       "2      3  Gaurav       32    97       34     74      52    289          -\n",
       "3      4     Raj       72    96       69     46      67    350          -\n",
       "4      5    Sham       76    56       67     80      78    357          -\n",
       "5      6   Rajni       84    34       94     95      76    383          -\n",
       "6      7   Sanny       77    41       76     51      78    323          -\n",
       "7      8  Monika       74    37       73     40      53    277          -\n",
       "8      9   Vinay       86    99       58     64      57    364          -\n",
       "9     10   Mohit       30    35       71     80      67    283          -"
      ]
     },
     "execution_count": 6,
     "metadata": {},
     "output_type": "execute_result"
    }
   ],
   "source": [
    "df"
   ]
  },
  {
   "cell_type": "code",
   "execution_count": 7,
   "id": "6abf60cd-7a38-41d3-976f-77ad0db1ebdf",
   "metadata": {},
   "outputs": [],
   "source": [
    "df['Percentage'] = (df['Total'] / 500) * 100"
   ]
  },
  {
   "cell_type": "code",
   "execution_count": 9,
   "id": "1bf481f7-a2a6-4fe2-a29c-c5f5a735f729",
   "metadata": {},
   "outputs": [
    {
     "name": "stdout",
     "output_type": "stream",
     "text": [
      "   Sr.no   Names  English  Math  Science  Hindi  Social  Total  Percentage\n",
      "0      1   Sahil       85    76       30     57      47    295        59.0\n",
      "1      2   Rohit       70    66       83     34      81    334        66.8\n",
      "2      3  Gaurav       32    97       34     74      52    289        57.8\n",
      "3      4     Raj       72    96       69     46      67    350        70.0\n",
      "4      5    Sham       76    56       67     80      78    357        71.4\n",
      "5      6   Rajni       84    34       94     95      76    383        76.6\n",
      "6      7   Sanny       77    41       76     51      78    323        64.6\n",
      "7      8  Monika       74    37       73     40      53    277        55.4\n",
      "8      9   Vinay       86    99       58     64      57    364        72.8\n",
      "9     10   Mohit       30    35       71     80      67    283        56.6\n"
     ]
    }
   ],
   "source": [
    "print(df)"
   ]
  },
  {
   "cell_type": "code",
   "execution_count": 14,
   "id": "f5f56781-8df4-4258-ad7b-efcefdf3c68b",
   "metadata": {},
   "outputs": [],
   "source": [
    "df.to_excel('Marks.xlsx', index=False)"
   ]
  },
  {
   "cell_type": "code",
   "execution_count": 15,
   "id": "ebc3c52a-d921-4028-bc48-c23f9741f9a8",
   "metadata": {},
   "outputs": [
    {
     "data": {
      "text/html": [
       "<div>\n",
       "<style scoped>\n",
       "    .dataframe tbody tr th:only-of-type {\n",
       "        vertical-align: middle;\n",
       "    }\n",
       "\n",
       "    .dataframe tbody tr th {\n",
       "        vertical-align: top;\n",
       "    }\n",
       "\n",
       "    .dataframe thead th {\n",
       "        text-align: right;\n",
       "    }\n",
       "</style>\n",
       "<table border=\"1\" class=\"dataframe\">\n",
       "  <thead>\n",
       "    <tr style=\"text-align: right;\">\n",
       "      <th></th>\n",
       "      <th>Sr.no</th>\n",
       "      <th>Names</th>\n",
       "      <th>English</th>\n",
       "      <th>Math</th>\n",
       "      <th>Science</th>\n",
       "      <th>Hindi</th>\n",
       "      <th>Social</th>\n",
       "      <th>Total</th>\n",
       "      <th>Percentage</th>\n",
       "    </tr>\n",
       "  </thead>\n",
       "  <tbody>\n",
       "    <tr>\n",
       "      <th>4</th>\n",
       "      <td>5</td>\n",
       "      <td>Sham</td>\n",
       "      <td>76</td>\n",
       "      <td>56</td>\n",
       "      <td>67</td>\n",
       "      <td>80</td>\n",
       "      <td>78</td>\n",
       "      <td>357</td>\n",
       "      <td>71.4</td>\n",
       "    </tr>\n",
       "    <tr>\n",
       "      <th>5</th>\n",
       "      <td>6</td>\n",
       "      <td>Rajni</td>\n",
       "      <td>84</td>\n",
       "      <td>34</td>\n",
       "      <td>94</td>\n",
       "      <td>95</td>\n",
       "      <td>76</td>\n",
       "      <td>383</td>\n",
       "      <td>76.6</td>\n",
       "    </tr>\n",
       "    <tr>\n",
       "      <th>8</th>\n",
       "      <td>9</td>\n",
       "      <td>Vinay</td>\n",
       "      <td>86</td>\n",
       "      <td>99</td>\n",
       "      <td>58</td>\n",
       "      <td>64</td>\n",
       "      <td>57</td>\n",
       "      <td>364</td>\n",
       "      <td>72.8</td>\n",
       "    </tr>\n",
       "  </tbody>\n",
       "</table>\n",
       "</div>"
      ],
      "text/plain": [
       "   Sr.no  Names  English  Math  Science  Hindi  Social  Total  Percentage\n",
       "4      5   Sham       76    56       67     80      78    357        71.4\n",
       "5      6  Rajni       84    34       94     95      76    383        76.6\n",
       "8      9  Vinay       86    99       58     64      57    364        72.8"
      ]
     },
     "execution_count": 15,
     "metadata": {},
     "output_type": "execute_result"
    }
   ],
   "source": [
    "df[df['Percentage']>70]"
   ]
  },
  {
   "cell_type": "code",
   "execution_count": 17,
   "id": "bb18e3a6-36d3-41b8-9411-6e4c8e8969f3",
   "metadata": {},
   "outputs": [
    {
     "data": {
      "text/html": [
       "<div>\n",
       "<style scoped>\n",
       "    .dataframe tbody tr th:only-of-type {\n",
       "        vertical-align: middle;\n",
       "    }\n",
       "\n",
       "    .dataframe tbody tr th {\n",
       "        vertical-align: top;\n",
       "    }\n",
       "\n",
       "    .dataframe thead th {\n",
       "        text-align: right;\n",
       "    }\n",
       "</style>\n",
       "<table border=\"1\" class=\"dataframe\">\n",
       "  <thead>\n",
       "    <tr style=\"text-align: right;\">\n",
       "      <th></th>\n",
       "      <th>Sr.no</th>\n",
       "      <th>Names</th>\n",
       "      <th>English</th>\n",
       "      <th>Math</th>\n",
       "      <th>Science</th>\n",
       "      <th>Hindi</th>\n",
       "      <th>Social</th>\n",
       "      <th>Total</th>\n",
       "      <th>Percentage</th>\n",
       "    </tr>\n",
       "  </thead>\n",
       "  <tbody>\n",
       "    <tr>\n",
       "      <th>7</th>\n",
       "      <td>8</td>\n",
       "      <td>Monika</td>\n",
       "      <td>74</td>\n",
       "      <td>37</td>\n",
       "      <td>73</td>\n",
       "      <td>40</td>\n",
       "      <td>53</td>\n",
       "      <td>277</td>\n",
       "      <td>55.4</td>\n",
       "    </tr>\n",
       "    <tr>\n",
       "      <th>9</th>\n",
       "      <td>10</td>\n",
       "      <td>Mohit</td>\n",
       "      <td>30</td>\n",
       "      <td>35</td>\n",
       "      <td>71</td>\n",
       "      <td>80</td>\n",
       "      <td>67</td>\n",
       "      <td>283</td>\n",
       "      <td>56.6</td>\n",
       "    </tr>\n",
       "    <tr>\n",
       "      <th>2</th>\n",
       "      <td>3</td>\n",
       "      <td>Gaurav</td>\n",
       "      <td>32</td>\n",
       "      <td>97</td>\n",
       "      <td>34</td>\n",
       "      <td>74</td>\n",
       "      <td>52</td>\n",
       "      <td>289</td>\n",
       "      <td>57.8</td>\n",
       "    </tr>\n",
       "    <tr>\n",
       "      <th>0</th>\n",
       "      <td>1</td>\n",
       "      <td>Sahil</td>\n",
       "      <td>85</td>\n",
       "      <td>76</td>\n",
       "      <td>30</td>\n",
       "      <td>57</td>\n",
       "      <td>47</td>\n",
       "      <td>295</td>\n",
       "      <td>59.0</td>\n",
       "    </tr>\n",
       "    <tr>\n",
       "      <th>6</th>\n",
       "      <td>7</td>\n",
       "      <td>Sanny</td>\n",
       "      <td>77</td>\n",
       "      <td>41</td>\n",
       "      <td>76</td>\n",
       "      <td>51</td>\n",
       "      <td>78</td>\n",
       "      <td>323</td>\n",
       "      <td>64.6</td>\n",
       "    </tr>\n",
       "    <tr>\n",
       "      <th>1</th>\n",
       "      <td>2</td>\n",
       "      <td>Rohit</td>\n",
       "      <td>70</td>\n",
       "      <td>66</td>\n",
       "      <td>83</td>\n",
       "      <td>34</td>\n",
       "      <td>81</td>\n",
       "      <td>334</td>\n",
       "      <td>66.8</td>\n",
       "    </tr>\n",
       "    <tr>\n",
       "      <th>3</th>\n",
       "      <td>4</td>\n",
       "      <td>Raj</td>\n",
       "      <td>72</td>\n",
       "      <td>96</td>\n",
       "      <td>69</td>\n",
       "      <td>46</td>\n",
       "      <td>67</td>\n",
       "      <td>350</td>\n",
       "      <td>70.0</td>\n",
       "    </tr>\n",
       "    <tr>\n",
       "      <th>4</th>\n",
       "      <td>5</td>\n",
       "      <td>Sham</td>\n",
       "      <td>76</td>\n",
       "      <td>56</td>\n",
       "      <td>67</td>\n",
       "      <td>80</td>\n",
       "      <td>78</td>\n",
       "      <td>357</td>\n",
       "      <td>71.4</td>\n",
       "    </tr>\n",
       "    <tr>\n",
       "      <th>8</th>\n",
       "      <td>9</td>\n",
       "      <td>Vinay</td>\n",
       "      <td>86</td>\n",
       "      <td>99</td>\n",
       "      <td>58</td>\n",
       "      <td>64</td>\n",
       "      <td>57</td>\n",
       "      <td>364</td>\n",
       "      <td>72.8</td>\n",
       "    </tr>\n",
       "    <tr>\n",
       "      <th>5</th>\n",
       "      <td>6</td>\n",
       "      <td>Rajni</td>\n",
       "      <td>84</td>\n",
       "      <td>34</td>\n",
       "      <td>94</td>\n",
       "      <td>95</td>\n",
       "      <td>76</td>\n",
       "      <td>383</td>\n",
       "      <td>76.6</td>\n",
       "    </tr>\n",
       "  </tbody>\n",
       "</table>\n",
       "</div>"
      ],
      "text/plain": [
       "   Sr.no   Names  English  Math  Science  Hindi  Social  Total  Percentage\n",
       "7      8  Monika       74    37       73     40      53    277        55.4\n",
       "9     10   Mohit       30    35       71     80      67    283        56.6\n",
       "2      3  Gaurav       32    97       34     74      52    289        57.8\n",
       "0      1   Sahil       85    76       30     57      47    295        59.0\n",
       "6      7   Sanny       77    41       76     51      78    323        64.6\n",
       "1      2   Rohit       70    66       83     34      81    334        66.8\n",
       "3      4     Raj       72    96       69     46      67    350        70.0\n",
       "4      5    Sham       76    56       67     80      78    357        71.4\n",
       "8      9   Vinay       86    99       58     64      57    364        72.8\n",
       "5      6   Rajni       84    34       94     95      76    383        76.6"
      ]
     },
     "execution_count": 17,
     "metadata": {},
     "output_type": "execute_result"
    }
   ],
   "source": [
    "df.sort_values(by='Percentage')"
   ]
  },
  {
   "cell_type": "code",
   "execution_count": 24,
   "id": "33ee6ef8-835b-49cc-a106-5d20d9f16eb5",
   "metadata": {},
   "outputs": [],
   "source": [
    "max_percentage=df['Percentage'].max()"
   ]
  },
  {
   "cell_type": "code",
   "execution_count": 25,
   "id": "c4377be6-93e4-425a-95b9-6c6455b4fa0c",
   "metadata": {},
   "outputs": [
    {
     "name": "stdout",
     "output_type": "stream",
     "text": [
      "max_percentage: 76.6\n"
     ]
    }
   ],
   "source": [
    "print(\"max_percentage:\", max_percentage)"
   ]
  },
  {
   "cell_type": "code",
   "execution_count": 26,
   "id": "b82622f5-beba-4450-9368-47041d0b5ba0",
   "metadata": {},
   "outputs": [],
   "source": [
    "min_percentage=df['Percentage'].min()"
   ]
  },
  {
   "cell_type": "code",
   "execution_count": 27,
   "id": "ea03e011-441a-44fc-a58c-1a322f8aafa7",
   "metadata": {},
   "outputs": [
    {
     "name": "stdout",
     "output_type": "stream",
     "text": [
      "55.400000000000006\n"
     ]
    }
   ],
   "source": [
    "print(min_percentage)"
   ]
  },
  {
   "cell_type": "code",
   "execution_count": 30,
   "id": "c84a800d-8f16-49fe-ad5b-f750a077d54a",
   "metadata": {},
   "outputs": [],
   "source": [
    "average=df['Percentage'].mean()"
   ]
  },
  {
   "cell_type": "code",
   "execution_count": 32,
   "id": "b150a60f-b007-4efd-b741-d83f43a4819e",
   "metadata": {},
   "outputs": [
    {
     "name": "stdout",
     "output_type": "stream",
     "text": [
      "65.1\n"
     ]
    }
   ],
   "source": [
    "print(average)"
   ]
  },
  {
   "cell_type": "code",
   "execution_count": 33,
   "id": "dc9bf330-983c-4272-8f62-1c90878641b6",
   "metadata": {},
   "outputs": [],
   "source": [
    "summary_df = pd.DataFrame({\n",
    "    'Metric': ['Maximum Percentage', 'Average Percentage', 'Minimum Percentage'],\n",
    "    'Value': [max_percentage, average, min_percentage]\n",
    "})"
   ]
  },
  {
   "cell_type": "code",
   "execution_count": 34,
   "id": "d672e452-18a6-483f-ac37-c3503bdcd065",
   "metadata": {},
   "outputs": [],
   "source": [
    "with pd.ExcelWriter('Marks_with_summary.xlsx') as writer:\n",
    "    df.to_excel(writer, sheet_name='Marks', index=False)  # Save original data\n",
    "    summary_df.to_excel(writer, sheet_name='Summary', index=False)"
   ]
  },
  {
   "cell_type": "code",
   "execution_count": 35,
   "id": "ac7c67f0-c15c-430d-b68b-314e97d485c7",
   "metadata": {},
   "outputs": [
    {
     "name": "stdout",
     "output_type": "stream",
     "text": [
      "Data saved to Marks_with_summary.xlsx\n"
     ]
    }
   ],
   "source": [
    "print(\"Data saved to Marks_with_summary.xlsx\")"
   ]
  },
  {
   "cell_type": "code",
   "execution_count": 38,
   "id": "bdf359d8-3c23-4bf6-9411-b2a262bf3e30",
   "metadata": {},
   "outputs": [],
   "source": [
    "import matplotlib.pyplot as plt"
   ]
  },
  {
   "cell_type": "code",
   "execution_count": 42,
   "id": "7b03d2e3-4973-4cb2-99dc-24a0ddecc08c",
   "metadata": {},
   "outputs": [
    {
     "data": {
      "text/plain": [
       "<BarContainer object of 10 artists>"
      ]
     },
     "execution_count": 42,
     "metadata": {},
     "output_type": "execute_result"
    },
    {
     "data": {
      "image/png": "[encoded data removed]",
      "text/plain": [
       "<Figure size 640x480 with 1 Axes>"
      ]
     },
     "metadata": {},
     "output_type": "display_data"
    }
   ],
   "source": [
    "plt.bar(df['Names'], df['Percentage'])"
   ]
  },
  {
   "cell_type": "code",
   "execution_count": 43,
   "id": "418db197-5b37-47af-8f10-a9d28b5c05a8",
   "metadata": {},
   "outputs": [],
   "source": [
    "top_3=df.nlargest(3,'Percentage')"
   ]
  },
  {
   "cell_type": "code",
   "execution_count": 44,
   "id": "0972f356-2baf-406d-b5a7-521e0d150041",
   "metadata": {},
   "outputs": [
    {
     "name": "stdout",
     "output_type": "stream",
     "text": [
      "   Sr.no  Names  English  Math  Science  Hindi  Social  Total  Percentage\n",
      "5      6  Rajni       84    34       94     95      76    383        76.6\n",
      "8      9  Vinay       86    99       58     64      57    364        72.8\n",
      "4      5   Sham       76    56       67     80      78    357        71.4\n"
     ]
    }
   ],
   "source": [
    "print(top_3)"
   ]
  },
  {
   "cell_type": "code",
   "execution_count": 47,
   "id": "c1ba3df4-7680-44ae-b8a7-c29e13c4a6f4",
   "metadata": {},
   "outputs": [
    {
     "data": {
      "text/plain": [
       "<BarContainer object of 3 artists>"
      ]
     },
     "execution_count": 47,
     "metadata": {},
     "output_type": "execute_result"
    },
    {
     "data": {
      "image/png": "[encoded data removed]",
      "text/plain": [
       "<Figure size 640x480 with 1 Axes>"
      ]
     },
     "metadata": {},
     "output_type": "display_data"
    }
   ],
   "source": [
    "plt.bar(top_3['Names'],top_3['Percentage'])"
   ]
  },
  {
   "cell_type": "code",
   "execution_count": null,
   "id": "d210a227-8635-426a-a8af-b9ae00e734cb",
   "metadata": {},
   "outputs": [],
   "source": []
  }
 ],
 "metadata": {
  "kernelspec": {
   "display_name": "Python 3 (ipykernel)",
   "language": "python",
   "name": "python3"
  },
  "language_info": {
   "codemirror_mode": {
    "name": "ipython",
    "version": 3
   },
   "file_extension": ".py",
   "mimetype": "text/x-python",
   "name": "python",
   "nbconvert_exporter": "python",
   "pygments_lexer": "ipython3",
   "version": "3.10.6"
  }
 },
 "nbformat": 4,
 "nbformat_minor": 5
}
